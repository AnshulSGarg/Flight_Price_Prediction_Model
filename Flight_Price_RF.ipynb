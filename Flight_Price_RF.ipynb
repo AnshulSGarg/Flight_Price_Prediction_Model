{
  "cells": [
    {
      "cell_type": "code",
      "execution_count": 278,
      "metadata": {
        "id": "QZthhCJEkhWO"
      },
      "outputs": [],
      "source": [
        "import pandas as pd"
      ]
    },
    {
      "cell_type": "code",
      "execution_count": 279,
      "metadata": {
        "id": "KVpqwr-hkq-e"
      },
      "outputs": [],
      "source": [
        "df = pd.read_csv(r'C:\\Users\\anshu\\Desktop\\Anshul Data Science\\Flight_Data\\baseline_df.csv')"
      ]
    },
    {
      "cell_type": "code",
      "execution_count": 280,
      "metadata": {},
      "outputs": [
        {
          "data": {
            "text/plain": [
              "(119769, 20)"
            ]
          },
          "execution_count": 280,
          "metadata": {},
          "output_type": "execute_result"
        }
      ],
      "source": [
        "df.shape"
      ]
    },
    {
      "cell_type": "code",
      "execution_count": 281,
      "metadata": {},
      "outputs": [
        {
          "data": {
            "text/plain": [
              "array(['2024-03-10', '2024-03-11', '2024-03-12', '2024-03-13',\n",
              "       '2024-03-14', '2024-03-15', '2024-03-16', '2024-03-17',\n",
              "       '2024-03-18', '2024-03-19', '2024-03-21', '2024-03-22',\n",
              "       '2024-03-23', '2024-03-24', '2024-03-25', '2024-03-26',\n",
              "       '2024-03-27', '2024-03-28', '2024-03-29', '2024-03-30',\n",
              "       '2024-04-01', '2024-04-02', '2024-04-03'], dtype=object)"
            ]
          },
          "execution_count": 281,
          "metadata": {},
          "output_type": "execute_result"
        }
      ],
      "source": [
        "df.Report_Run_Time.unique()"
      ]
    },
    {
      "cell_type": "code",
      "execution_count": 283,
      "metadata": {},
      "outputs": [],
      "source": [
        "df['from_hour'] = pd.to_datetime(df['from_timestamp_1']).dt.hour"
      ]
    },
    {
      "cell_type": "code",
      "execution_count": 284,
      "metadata": {},
      "outputs": [
        {
          "data": {
            "text/html": [
              "<div>\n",
              "<style scoped>\n",
              "    .dataframe tbody tr th:only-of-type {\n",
              "        vertical-align: middle;\n",
              "    }\n",
              "\n",
              "    .dataframe tbody tr th {\n",
              "        vertical-align: top;\n",
              "    }\n",
              "\n",
              "    .dataframe thead th {\n",
              "        text-align: right;\n",
              "    }\n",
              "</style>\n",
              "<table border=\"1\" class=\"dataframe\">\n",
              "  <thead>\n",
              "    <tr style=\"text-align: right;\">\n",
              "      <th></th>\n",
              "      <th>from_timestamp_1</th>\n",
              "      <th>from_hour</th>\n",
              "    </tr>\n",
              "  </thead>\n",
              "  <tbody>\n",
              "    <tr>\n",
              "      <th>0</th>\n",
              "      <td>2024-03-28 06:47:00</td>\n",
              "      <td>6</td>\n",
              "    </tr>\n",
              "    <tr>\n",
              "      <th>1</th>\n",
              "      <td>2024-03-28 07:30:00</td>\n",
              "      <td>7</td>\n",
              "    </tr>\n",
              "    <tr>\n",
              "      <th>2</th>\n",
              "      <td>2024-03-28 05:15:00</td>\n",
              "      <td>5</td>\n",
              "    </tr>\n",
              "    <tr>\n",
              "      <th>3</th>\n",
              "      <td>2024-03-28 12:00:00</td>\n",
              "      <td>12</td>\n",
              "    </tr>\n",
              "    <tr>\n",
              "      <th>4</th>\n",
              "      <td>2024-03-28 16:29:00</td>\n",
              "      <td>16</td>\n",
              "    </tr>\n",
              "    <tr>\n",
              "      <th>...</th>\n",
              "      <td>...</td>\n",
              "      <td>...</td>\n",
              "    </tr>\n",
              "    <tr>\n",
              "      <th>119764</th>\n",
              "      <td>2024-04-15 16:35:00</td>\n",
              "      <td>16</td>\n",
              "    </tr>\n",
              "    <tr>\n",
              "      <th>119765</th>\n",
              "      <td>2024-04-15 21:40:00</td>\n",
              "      <td>21</td>\n",
              "    </tr>\n",
              "    <tr>\n",
              "      <th>119766</th>\n",
              "      <td>2024-04-15 22:40:00</td>\n",
              "      <td>22</td>\n",
              "    </tr>\n",
              "    <tr>\n",
              "      <th>119767</th>\n",
              "      <td>2024-04-15 22:46:00</td>\n",
              "      <td>22</td>\n",
              "    </tr>\n",
              "    <tr>\n",
              "      <th>119768</th>\n",
              "      <td>2024-04-15 23:59:00</td>\n",
              "      <td>23</td>\n",
              "    </tr>\n",
              "  </tbody>\n",
              "</table>\n",
              "<p>119769 rows × 2 columns</p>\n",
              "</div>"
            ],
            "text/plain": [
              "           from_timestamp_1  from_hour\n",
              "0       2024-03-28 06:47:00          6\n",
              "1       2024-03-28 07:30:00          7\n",
              "2       2024-03-28 05:15:00          5\n",
              "3       2024-03-28 12:00:00         12\n",
              "4       2024-03-28 16:29:00         16\n",
              "...                     ...        ...\n",
              "119764  2024-04-15 16:35:00         16\n",
              "119765  2024-04-15 21:40:00         21\n",
              "119766  2024-04-15 22:40:00         22\n",
              "119767  2024-04-15 22:46:00         22\n",
              "119768  2024-04-15 23:59:00         23\n",
              "\n",
              "[119769 rows x 2 columns]"
            ]
          },
          "execution_count": 284,
          "metadata": {},
          "output_type": "execute_result"
        }
      ],
      "source": [
        "df[['from_timestamp_1','from_hour']]"
      ]
    },
    {
      "cell_type": "code",
      "execution_count": 285,
      "metadata": {
        "colab": {
          "base_uri": "https://localhost:8080/"
        },
        "id": "N164wjP0lMs7",
        "outputId": "fc96e506-dc86-4f6a-e509-bba1b386cd48"
      },
      "outputs": [
        {
          "data": {
            "text/plain": [
              "Index(['Unnamed: 0', 'index', 'Report_Run_Time', 'carrier', 'Trip_Type',\n",
              "       'Airport_Route', 'price', 'overhead_bin', 'layover_count',\n",
              "       'round_trip_duration', 'Carbon emissions estimate num',\n",
              "       'carbon_emission% num', 'Days_to_Fly', 'from_timestamp_1',\n",
              "       'to_timestamp_1', 'from_hour_segment', 'to_hour_segment',\n",
              "       'flight_duration_value', 'Holiday', 'Fly_WeekDay', 'from_hour'],\n",
              "      dtype='object')"
            ]
          },
          "execution_count": 285,
          "metadata": {},
          "output_type": "execute_result"
        }
      ],
      "source": [
        "df.columns"
      ]
    },
    {
      "cell_type": "code",
      "execution_count": 286,
      "metadata": {
        "id": "hoBUtdbplRDi"
      },
      "outputs": [],
      "source": [
        "df = df[[ 'carrier', 'Trip_Type','Airport_Route',\n",
        "          'layover_count','round_trip_duration',\n",
        "   'Days_to_Fly', 'from_hour',\n",
        "       'flight_duration_value', 'Holiday', 'Fly_WeekDay', 'price']]"
      ]
    },
    {
      "cell_type": "code",
      "execution_count": 287,
      "metadata": {},
      "outputs": [
        {
          "data": {
            "text/plain": [
              "(119769, 11)"
            ]
          },
          "execution_count": 287,
          "metadata": {},
          "output_type": "execute_result"
        }
      ],
      "source": [
        "df.shape"
      ]
    },
    {
      "cell_type": "code",
      "execution_count": 288,
      "metadata": {},
      "outputs": [],
      "source": [
        "df = df[df['flight_duration_value']<=16.5]"
      ]
    },
    {
      "cell_type": "code",
      "execution_count": 289,
      "metadata": {},
      "outputs": [
        {
          "data": {
            "text/plain": [
              "(117672, 11)"
            ]
          },
          "execution_count": 289,
          "metadata": {},
          "output_type": "execute_result"
        }
      ],
      "source": [
        "df.shape"
      ]
    },
    {
      "cell_type": "code",
      "execution_count": 290,
      "metadata": {
        "id": "ClFbwkPrpiGY"
      },
      "outputs": [],
      "source": [
        "columns_to_encode = ['carrier', 'Trip_Type', 'Airport_Route','Holiday']"
      ]
    },
    {
      "cell_type": "code",
      "execution_count": 291,
      "metadata": {},
      "outputs": [],
      "source": [
        "from sklearn.preprocessing import OrdinalEncoder \n",
        "from sklearn.compose import ColumnTransformer\n",
        "from sklearn.pipeline import Pipeline\n",
        "from sklearn.ensemble import RandomForestRegressor\n",
        "from sklearn.model_selection import KFold, cross_val_score"
      ]
    },
    {
      "cell_type": "code",
      "execution_count": 292,
      "metadata": {},
      "outputs": [],
      "source": [
        "# Creating a column transformer for preprocessing\n",
        "preprocessor = ColumnTransformer(\n",
        "    transformers=[\n",
        "        ('cat', OrdinalEncoder(), columns_to_encode)\n",
        "    ], \n",
        "    remainder='passthrough'\n",
        ")"
      ]
    },
    {
      "cell_type": "code",
      "execution_count": 293,
      "metadata": {},
      "outputs": [],
      "source": [
        "# Creating a pipeline\n",
        "pipeline = Pipeline([\n",
        "    ('preprocessor', preprocessor),\n",
        "    ('regressor', RandomForestRegressor())\n",
        "])"
      ]
    },
    {
      "cell_type": "code",
      "execution_count": 294,
      "metadata": {
        "id": "eLfX9hscqZ4P"
      },
      "outputs": [],
      "source": [
        "X = df.iloc[:,:-1]"
      ]
    },
    {
      "cell_type": "code",
      "execution_count": 295,
      "metadata": {
        "id": "LIDYJRUfqapB"
      },
      "outputs": [],
      "source": [
        "Y = df.iloc[:,-1:]"
      ]
    },
    {
      "cell_type": "code",
      "execution_count": 296,
      "metadata": {},
      "outputs": [
        {
          "name": "stderr",
          "output_type": "stream",
          "text": [
            "c:\\Users\\anshu\\anaconda3\\Lib\\site-packages\\sklearn\\base.py:1151: DataConversionWarning: A column-vector y was passed when a 1d array was expected. Please change the shape of y to (n_samples,), for example using ravel().\n",
            "  return fit_method(estimator, *args, **kwargs)\n",
            "c:\\Users\\anshu\\anaconda3\\Lib\\site-packages\\sklearn\\base.py:1151: DataConversionWarning: A column-vector y was passed when a 1d array was expected. Please change the shape of y to (n_samples,), for example using ravel().\n",
            "  return fit_method(estimator, *args, **kwargs)\n",
            "c:\\Users\\anshu\\anaconda3\\Lib\\site-packages\\sklearn\\base.py:1151: DataConversionWarning: A column-vector y was passed when a 1d array was expected. Please change the shape of y to (n_samples,), for example using ravel().\n",
            "  return fit_method(estimator, *args, **kwargs)\n",
            "c:\\Users\\anshu\\anaconda3\\Lib\\site-packages\\sklearn\\base.py:1151: DataConversionWarning: A column-vector y was passed when a 1d array was expected. Please change the shape of y to (n_samples,), for example using ravel().\n",
            "  return fit_method(estimator, *args, **kwargs)\n",
            "c:\\Users\\anshu\\anaconda3\\Lib\\site-packages\\sklearn\\base.py:1151: DataConversionWarning: A column-vector y was passed when a 1d array was expected. Please change the shape of y to (n_samples,), for example using ravel().\n",
            "  return fit_method(estimator, *args, **kwargs)\n"
          ]
        }
      ],
      "source": [
        "# K-fold cross-validation\n",
        "kfold = KFold(n_splits=10, shuffle=True, random_state=40)\n",
        "scores = cross_val_score(pipeline, X, Y, cv=kfold, scoring='r2')"
      ]
    },
    {
      "cell_type": "code",
      "execution_count": 297,
      "metadata": {},
      "outputs": [
        {
          "data": {
            "text/plain": [
              "array([0.82930967, 0.78903249, 0.81522367, 0.81798997, 0.82472664])"
            ]
          },
          "execution_count": 297,
          "metadata": {},
          "output_type": "execute_result"
        }
      ],
      "source": [
        "scores"
      ]
    },
    {
      "cell_type": "code",
      "execution_count": 298,
      "metadata": {},
      "outputs": [
        {
          "data": {
            "text/plain": [
              "(0.8152564883203552, 0.01401675253523865)"
            ]
          },
          "execution_count": 298,
          "metadata": {},
          "output_type": "execute_result"
        }
      ],
      "source": [
        "scores.mean(),scores.std()"
      ]
    },
    {
      "cell_type": "code",
      "execution_count": 299,
      "metadata": {
        "id": "ZJx6UNuzprtS"
      },
      "outputs": [],
      "source": [
        "# encoded_values = {}\n",
        "# for column in columns_to_encode:\n",
        "#   X[column] = encode.fit_transform(X[column])\n",
        "#   encoded_values[column] = dict(zip(encode.classes_, encode.transform(encode.classes_)))"
      ]
    },
    {
      "cell_type": "code",
      "execution_count": 300,
      "metadata": {
        "colab": {
          "base_uri": "https://localhost:8080/"
        },
        "id": "mEacb8__r8hg",
        "outputId": "db1e73e6-e75e-40ef-df33-26f2e5c76289"
      },
      "outputs": [],
      "source": [
        "# for column, values in encoded_values.items():\n",
        "#     print(pd.DataFrame(values.items()))"
      ]
    },
    {
      "cell_type": "code",
      "execution_count": 301,
      "metadata": {
        "id": "Z-D-OjEDqVAX"
      },
      "outputs": [],
      "source": [
        "from sklearn.model_selection import train_test_split"
      ]
    },
    {
      "cell_type": "code",
      "execution_count": 325,
      "metadata": {
        "id": "nSs9Vynkl_3k"
      },
      "outputs": [],
      "source": [
        "X_train,X_test,Y_train,Y_test = train_test_split(X,Y,test_size=0.2,random_state=40)"
      ]
    },
    {
      "cell_type": "code",
      "execution_count": 326,
      "metadata": {},
      "outputs": [
        {
          "name": "stderr",
          "output_type": "stream",
          "text": [
            "c:\\Users\\anshu\\anaconda3\\Lib\\site-packages\\sklearn\\base.py:1151: DataConversionWarning: A column-vector y was passed when a 1d array was expected. Please change the shape of y to (n_samples,), for example using ravel().\n",
            "  return fit_method(estimator, *args, **kwargs)\n"
          ]
        },
        {
          "data": {
            "text/html": [
              "<style>#sk-container-id-7 {color: black;}#sk-container-id-7 pre{padding: 0;}#sk-container-id-7 div.sk-toggleable {background-color: white;}#sk-container-id-7 label.sk-toggleable__label {cursor: pointer;display: block;width: 100%;margin-bottom: 0;padding: 0.3em;box-sizing: border-box;text-align: center;}#sk-container-id-7 label.sk-toggleable__label-arrow:before {content: \"▸\";float: left;margin-right: 0.25em;color: #696969;}#sk-container-id-7 label.sk-toggleable__label-arrow:hover:before {color: black;}#sk-container-id-7 div.sk-estimator:hover label.sk-toggleable__label-arrow:before {color: black;}#sk-container-id-7 div.sk-toggleable__content {max-height: 0;max-width: 0;overflow: hidden;text-align: left;background-color: #f0f8ff;}#sk-container-id-7 div.sk-toggleable__content pre {margin: 0.2em;color: black;border-radius: 0.25em;background-color: #f0f8ff;}#sk-container-id-7 input.sk-toggleable__control:checked~div.sk-toggleable__content {max-height: 200px;max-width: 100%;overflow: auto;}#sk-container-id-7 input.sk-toggleable__control:checked~label.sk-toggleable__label-arrow:before {content: \"▾\";}#sk-container-id-7 div.sk-estimator input.sk-toggleable__control:checked~label.sk-toggleable__label {background-color: #d4ebff;}#sk-container-id-7 div.sk-label input.sk-toggleable__control:checked~label.sk-toggleable__label {background-color: #d4ebff;}#sk-container-id-7 input.sk-hidden--visually {border: 0;clip: rect(1px 1px 1px 1px);clip: rect(1px, 1px, 1px, 1px);height: 1px;margin: -1px;overflow: hidden;padding: 0;position: absolute;width: 1px;}#sk-container-id-7 div.sk-estimator {font-family: monospace;background-color: #f0f8ff;border: 1px dotted black;border-radius: 0.25em;box-sizing: border-box;margin-bottom: 0.5em;}#sk-container-id-7 div.sk-estimator:hover {background-color: #d4ebff;}#sk-container-id-7 div.sk-parallel-item::after {content: \"\";width: 100%;border-bottom: 1px solid gray;flex-grow: 1;}#sk-container-id-7 div.sk-label:hover label.sk-toggleable__label {background-color: #d4ebff;}#sk-container-id-7 div.sk-serial::before {content: \"\";position: absolute;border-left: 1px solid gray;box-sizing: border-box;top: 0;bottom: 0;left: 50%;z-index: 0;}#sk-container-id-7 div.sk-serial {display: flex;flex-direction: column;align-items: center;background-color: white;padding-right: 0.2em;padding-left: 0.2em;position: relative;}#sk-container-id-7 div.sk-item {position: relative;z-index: 1;}#sk-container-id-7 div.sk-parallel {display: flex;align-items: stretch;justify-content: center;background-color: white;position: relative;}#sk-container-id-7 div.sk-item::before, #sk-container-id-7 div.sk-parallel-item::before {content: \"\";position: absolute;border-left: 1px solid gray;box-sizing: border-box;top: 0;bottom: 0;left: 50%;z-index: -1;}#sk-container-id-7 div.sk-parallel-item {display: flex;flex-direction: column;z-index: 1;position: relative;background-color: white;}#sk-container-id-7 div.sk-parallel-item:first-child::after {align-self: flex-end;width: 50%;}#sk-container-id-7 div.sk-parallel-item:last-child::after {align-self: flex-start;width: 50%;}#sk-container-id-7 div.sk-parallel-item:only-child::after {width: 0;}#sk-container-id-7 div.sk-dashed-wrapped {border: 1px dashed gray;margin: 0 0.4em 0.5em 0.4em;box-sizing: border-box;padding-bottom: 0.4em;background-color: white;}#sk-container-id-7 div.sk-label label {font-family: monospace;font-weight: bold;display: inline-block;line-height: 1.2em;}#sk-container-id-7 div.sk-label-container {text-align: center;}#sk-container-id-7 div.sk-container {/* jupyter's `normalize.less` sets `[hidden] { display: none; }` but bootstrap.min.css set `[hidden] { display: none !important; }` so we also need the `!important` here to be able to override the default hidden behavior on the sphinx rendered scikit-learn.org. See: https://github.com/scikit-learn/scikit-learn/issues/21755 */display: inline-block !important;position: relative;}#sk-container-id-7 div.sk-text-repr-fallback {display: none;}</style><div id=\"sk-container-id-7\" class=\"sk-top-container\"><div class=\"sk-text-repr-fallback\"><pre>Pipeline(steps=[(&#x27;preprocessor&#x27;,\n",
              "                 ColumnTransformer(remainder=&#x27;passthrough&#x27;,\n",
              "                                   transformers=[(&#x27;cat&#x27;, OrdinalEncoder(),\n",
              "                                                  [&#x27;carrier&#x27;, &#x27;Trip_Type&#x27;,\n",
              "                                                   &#x27;Airport_Route&#x27;,\n",
              "                                                   &#x27;Holiday&#x27;])])),\n",
              "                (&#x27;regressor&#x27;, RandomForestRegressor())])</pre><b>In a Jupyter environment, please rerun this cell to show the HTML representation or trust the notebook. <br />On GitHub, the HTML representation is unable to render, please try loading this page with nbviewer.org.</b></div><div class=\"sk-container\" hidden><div class=\"sk-item sk-dashed-wrapped\"><div class=\"sk-label-container\"><div class=\"sk-label sk-toggleable\"><input class=\"sk-toggleable__control sk-hidden--visually\" id=\"sk-estimator-id-37\" type=\"checkbox\" ><label for=\"sk-estimator-id-37\" class=\"sk-toggleable__label sk-toggleable__label-arrow\">Pipeline</label><div class=\"sk-toggleable__content\"><pre>Pipeline(steps=[(&#x27;preprocessor&#x27;,\n",
              "                 ColumnTransformer(remainder=&#x27;passthrough&#x27;,\n",
              "                                   transformers=[(&#x27;cat&#x27;, OrdinalEncoder(),\n",
              "                                                  [&#x27;carrier&#x27;, &#x27;Trip_Type&#x27;,\n",
              "                                                   &#x27;Airport_Route&#x27;,\n",
              "                                                   &#x27;Holiday&#x27;])])),\n",
              "                (&#x27;regressor&#x27;, RandomForestRegressor())])</pre></div></div></div><div class=\"sk-serial\"><div class=\"sk-item sk-dashed-wrapped\"><div class=\"sk-label-container\"><div class=\"sk-label sk-toggleable\"><input class=\"sk-toggleable__control sk-hidden--visually\" id=\"sk-estimator-id-38\" type=\"checkbox\" ><label for=\"sk-estimator-id-38\" class=\"sk-toggleable__label sk-toggleable__label-arrow\">preprocessor: ColumnTransformer</label><div class=\"sk-toggleable__content\"><pre>ColumnTransformer(remainder=&#x27;passthrough&#x27;,\n",
              "                  transformers=[(&#x27;cat&#x27;, OrdinalEncoder(),\n",
              "                                 [&#x27;carrier&#x27;, &#x27;Trip_Type&#x27;, &#x27;Airport_Route&#x27;,\n",
              "                                  &#x27;Holiday&#x27;])])</pre></div></div></div><div class=\"sk-parallel\"><div class=\"sk-parallel-item\"><div class=\"sk-item\"><div class=\"sk-label-container\"><div class=\"sk-label sk-toggleable\"><input class=\"sk-toggleable__control sk-hidden--visually\" id=\"sk-estimator-id-39\" type=\"checkbox\" ><label for=\"sk-estimator-id-39\" class=\"sk-toggleable__label sk-toggleable__label-arrow\">cat</label><div class=\"sk-toggleable__content\"><pre>[&#x27;carrier&#x27;, &#x27;Trip_Type&#x27;, &#x27;Airport_Route&#x27;, &#x27;Holiday&#x27;]</pre></div></div></div><div class=\"sk-serial\"><div class=\"sk-item\"><div class=\"sk-estimator sk-toggleable\"><input class=\"sk-toggleable__control sk-hidden--visually\" id=\"sk-estimator-id-40\" type=\"checkbox\" ><label for=\"sk-estimator-id-40\" class=\"sk-toggleable__label sk-toggleable__label-arrow\">OrdinalEncoder</label><div class=\"sk-toggleable__content\"><pre>OrdinalEncoder()</pre></div></div></div></div></div></div><div class=\"sk-parallel-item\"><div class=\"sk-item\"><div class=\"sk-label-container\"><div class=\"sk-label sk-toggleable\"><input class=\"sk-toggleable__control sk-hidden--visually\" id=\"sk-estimator-id-41\" type=\"checkbox\" ><label for=\"sk-estimator-id-41\" class=\"sk-toggleable__label sk-toggleable__label-arrow\">remainder</label><div class=\"sk-toggleable__content\"><pre>[&#x27;layover_count&#x27;, &#x27;round_trip_duration&#x27;, &#x27;Days_to_Fly&#x27;, &#x27;from_hour&#x27;, &#x27;flight_duration_value&#x27;, &#x27;Fly_WeekDay&#x27;]</pre></div></div></div><div class=\"sk-serial\"><div class=\"sk-item\"><div class=\"sk-estimator sk-toggleable\"><input class=\"sk-toggleable__control sk-hidden--visually\" id=\"sk-estimator-id-42\" type=\"checkbox\" ><label for=\"sk-estimator-id-42\" class=\"sk-toggleable__label sk-toggleable__label-arrow\">passthrough</label><div class=\"sk-toggleable__content\"><pre>passthrough</pre></div></div></div></div></div></div></div></div><div class=\"sk-item\"><div class=\"sk-estimator sk-toggleable\"><input class=\"sk-toggleable__control sk-hidden--visually\" id=\"sk-estimator-id-43\" type=\"checkbox\" ><label for=\"sk-estimator-id-43\" class=\"sk-toggleable__label sk-toggleable__label-arrow\">RandomForestRegressor</label><div class=\"sk-toggleable__content\"><pre>RandomForestRegressor()</pre></div></div></div></div></div></div></div>"
            ],
            "text/plain": [
              "Pipeline(steps=[('preprocessor',\n",
              "                 ColumnTransformer(remainder='passthrough',\n",
              "                                   transformers=[('cat', OrdinalEncoder(),\n",
              "                                                  ['carrier', 'Trip_Type',\n",
              "                                                   'Airport_Route',\n",
              "                                                   'Holiday'])])),\n",
              "                ('regressor', RandomForestRegressor())])"
            ]
          },
          "execution_count": 326,
          "metadata": {},
          "output_type": "execute_result"
        }
      ],
      "source": [
        "pipeline.fit(X_train,Y_train)"
      ]
    },
    {
      "cell_type": "code",
      "execution_count": 327,
      "metadata": {
        "id": "270XEQCtu85L"
      },
      "outputs": [],
      "source": [
        "Y_pred = pipeline.predict(X_test)"
      ]
    },
    {
      "cell_type": "code",
      "execution_count": 328,
      "metadata": {
        "colab": {
          "base_uri": "https://localhost:8080/"
        },
        "id": "9HTraUGavJVJ",
        "outputId": "274a2e95-068a-40f6-e455-62896c131f6b"
      },
      "outputs": [
        {
          "data": {
            "text/plain": [
              "0.8252143075970474"
            ]
          },
          "execution_count": 328,
          "metadata": {},
          "output_type": "execute_result"
        }
      ],
      "source": [
        "from sklearn.metrics import r2_score\n",
        "rf_r2_score = r2_score(Y_test,Y_pred)\n",
        "rf_r2_score"
      ]
    },
    {
      "cell_type": "code",
      "execution_count": 329,
      "metadata": {
        "colab": {
          "base_uri": "https://localhost:8080/"
        },
        "id": "FM9SnQ-I00oP",
        "outputId": "1fd3c6ce-e5f9-487b-8197-adf214c59425"
      },
      "outputs": [
        {
          "data": {
            "text/plain": [
              "39.8305475154593"
            ]
          },
          "execution_count": 329,
          "metadata": {},
          "output_type": "execute_result"
        }
      ],
      "source": [
        "from sklearn.metrics import mean_absolute_error\n",
        "\n",
        "mean_absolute_error(Y_test,Y_pred)"
      ]
    },
    {
      "cell_type": "code",
      "execution_count": 330,
      "metadata": {
        "id": "e0j4KflgwHS2"
      },
      "outputs": [],
      "source": [
        "Y_test = Y_test.reset_index()"
      ]
    },
    {
      "cell_type": "code",
      "execution_count": 331,
      "metadata": {
        "colab": {
          "base_uri": "https://localhost:8080/",
          "height": 424
        },
        "id": "pVNfz4WiwSHK",
        "outputId": "dfff86e0-df8d-467a-927f-1067e6d09fe5"
      },
      "outputs": [
        {
          "data": {
            "text/html": [
              "<div>\n",
              "<style scoped>\n",
              "    .dataframe tbody tr th:only-of-type {\n",
              "        vertical-align: middle;\n",
              "    }\n",
              "\n",
              "    .dataframe tbody tr th {\n",
              "        vertical-align: top;\n",
              "    }\n",
              "\n",
              "    .dataframe thead th {\n",
              "        text-align: right;\n",
              "    }\n",
              "</style>\n",
              "<table border=\"1\" class=\"dataframe\">\n",
              "  <thead>\n",
              "    <tr style=\"text-align: right;\">\n",
              "      <th></th>\n",
              "      <th>price_pred</th>\n",
              "    </tr>\n",
              "  </thead>\n",
              "  <tbody>\n",
              "    <tr>\n",
              "      <th>0</th>\n",
              "      <td>479.049</td>\n",
              "    </tr>\n",
              "    <tr>\n",
              "      <th>1</th>\n",
              "      <td>523.970</td>\n",
              "    </tr>\n",
              "    <tr>\n",
              "      <th>2</th>\n",
              "      <td>224.690</td>\n",
              "    </tr>\n",
              "    <tr>\n",
              "      <th>3</th>\n",
              "      <td>555.100</td>\n",
              "    </tr>\n",
              "    <tr>\n",
              "      <th>4</th>\n",
              "      <td>515.680</td>\n",
              "    </tr>\n",
              "    <tr>\n",
              "      <th>...</th>\n",
              "      <td>...</td>\n",
              "    </tr>\n",
              "    <tr>\n",
              "      <th>23530</th>\n",
              "      <td>451.060</td>\n",
              "    </tr>\n",
              "    <tr>\n",
              "      <th>23531</th>\n",
              "      <td>273.500</td>\n",
              "    </tr>\n",
              "    <tr>\n",
              "      <th>23532</th>\n",
              "      <td>271.740</td>\n",
              "    </tr>\n",
              "    <tr>\n",
              "      <th>23533</th>\n",
              "      <td>276.150</td>\n",
              "    </tr>\n",
              "    <tr>\n",
              "      <th>23534</th>\n",
              "      <td>276.500</td>\n",
              "    </tr>\n",
              "  </tbody>\n",
              "</table>\n",
              "<p>23535 rows × 1 columns</p>\n",
              "</div>"
            ],
            "text/plain": [
              "       price_pred\n",
              "0         479.049\n",
              "1         523.970\n",
              "2         224.690\n",
              "3         555.100\n",
              "4         515.680\n",
              "...           ...\n",
              "23530     451.060\n",
              "23531     273.500\n",
              "23532     271.740\n",
              "23533     276.150\n",
              "23534     276.500\n",
              "\n",
              "[23535 rows x 1 columns]"
            ]
          },
          "execution_count": 331,
          "metadata": {},
          "output_type": "execute_result"
        }
      ],
      "source": [
        "Y_pred = pd.DataFrame(Y_pred, columns=['price_pred'])\n",
        "Y_pred"
      ]
    },
    {
      "cell_type": "code",
      "execution_count": 332,
      "metadata": {
        "colab": {
          "base_uri": "https://localhost:8080/",
          "height": 424
        },
        "id": "OmgL-nFBwkyQ",
        "outputId": "5c0ec170-8c83-4108-9d61-27b65715d07a"
      },
      "outputs": [
        {
          "data": {
            "text/html": [
              "<div>\n",
              "<style scoped>\n",
              "    .dataframe tbody tr th:only-of-type {\n",
              "        vertical-align: middle;\n",
              "    }\n",
              "\n",
              "    .dataframe tbody tr th {\n",
              "        vertical-align: top;\n",
              "    }\n",
              "\n",
              "    .dataframe thead th {\n",
              "        text-align: right;\n",
              "    }\n",
              "</style>\n",
              "<table border=\"1\" class=\"dataframe\">\n",
              "  <thead>\n",
              "    <tr style=\"text-align: right;\">\n",
              "      <th></th>\n",
              "      <th>index</th>\n",
              "      <th>price</th>\n",
              "      <th>price_pred</th>\n",
              "    </tr>\n",
              "  </thead>\n",
              "  <tbody>\n",
              "    <tr>\n",
              "      <th>0</th>\n",
              "      <td>94693</td>\n",
              "      <td>617.0</td>\n",
              "      <td>479.049</td>\n",
              "    </tr>\n",
              "    <tr>\n",
              "      <th>1</th>\n",
              "      <td>398</td>\n",
              "      <td>557.0</td>\n",
              "      <td>523.970</td>\n",
              "    </tr>\n",
              "    <tr>\n",
              "      <th>2</th>\n",
              "      <td>6834</td>\n",
              "      <td>193.0</td>\n",
              "      <td>224.690</td>\n",
              "    </tr>\n",
              "    <tr>\n",
              "      <th>3</th>\n",
              "      <td>64462</td>\n",
              "      <td>526.0</td>\n",
              "      <td>555.100</td>\n",
              "    </tr>\n",
              "    <tr>\n",
              "      <th>4</th>\n",
              "      <td>110064</td>\n",
              "      <td>514.0</td>\n",
              "      <td>515.680</td>\n",
              "    </tr>\n",
              "    <tr>\n",
              "      <th>...</th>\n",
              "      <td>...</td>\n",
              "      <td>...</td>\n",
              "      <td>...</td>\n",
              "    </tr>\n",
              "    <tr>\n",
              "      <th>23530</th>\n",
              "      <td>90345</td>\n",
              "      <td>527.0</td>\n",
              "      <td>451.060</td>\n",
              "    </tr>\n",
              "    <tr>\n",
              "      <th>23531</th>\n",
              "      <td>59833</td>\n",
              "      <td>199.0</td>\n",
              "      <td>273.500</td>\n",
              "    </tr>\n",
              "    <tr>\n",
              "      <th>23532</th>\n",
              "      <td>104238</td>\n",
              "      <td>270.0</td>\n",
              "      <td>271.740</td>\n",
              "    </tr>\n",
              "    <tr>\n",
              "      <th>23533</th>\n",
              "      <td>70735</td>\n",
              "      <td>269.0</td>\n",
              "      <td>276.150</td>\n",
              "    </tr>\n",
              "    <tr>\n",
              "      <th>23534</th>\n",
              "      <td>119690</td>\n",
              "      <td>274.0</td>\n",
              "      <td>276.500</td>\n",
              "    </tr>\n",
              "  </tbody>\n",
              "</table>\n",
              "<p>23535 rows × 3 columns</p>\n",
              "</div>"
            ],
            "text/plain": [
              "        index  price  price_pred\n",
              "0       94693  617.0     479.049\n",
              "1         398  557.0     523.970\n",
              "2        6834  193.0     224.690\n",
              "3       64462  526.0     555.100\n",
              "4      110064  514.0     515.680\n",
              "...       ...    ...         ...\n",
              "23530   90345  527.0     451.060\n",
              "23531   59833  199.0     273.500\n",
              "23532  104238  270.0     271.740\n",
              "23533   70735  269.0     276.150\n",
              "23534  119690  274.0     276.500\n",
              "\n",
              "[23535 rows x 3 columns]"
            ]
          },
          "execution_count": 332,
          "metadata": {},
          "output_type": "execute_result"
        }
      ],
      "source": [
        "Y_test = pd.concat([Y_test, Y_pred], axis = 1)\n",
        "Y_test"
      ]
    },
    {
      "cell_type": "code",
      "execution_count": 333,
      "metadata": {
        "colab": {
          "base_uri": "https://localhost:8080/",
          "height": 424
        },
        "id": "IHXKHNQQyZZY",
        "outputId": "1463f0ed-8391-4971-8b29-3007eedf3112"
      },
      "outputs": [
        {
          "data": {
            "text/html": [
              "<div>\n",
              "<style scoped>\n",
              "    .dataframe tbody tr th:only-of-type {\n",
              "        vertical-align: middle;\n",
              "    }\n",
              "\n",
              "    .dataframe tbody tr th {\n",
              "        vertical-align: top;\n",
              "    }\n",
              "\n",
              "    .dataframe thead th {\n",
              "        text-align: right;\n",
              "    }\n",
              "</style>\n",
              "<table border=\"1\" class=\"dataframe\">\n",
              "  <thead>\n",
              "    <tr style=\"text-align: right;\">\n",
              "      <th></th>\n",
              "      <th>index</th>\n",
              "      <th>price</th>\n",
              "      <th>price_pred</th>\n",
              "      <th>Diff</th>\n",
              "    </tr>\n",
              "  </thead>\n",
              "  <tbody>\n",
              "    <tr>\n",
              "      <th>0</th>\n",
              "      <td>94693</td>\n",
              "      <td>617.0</td>\n",
              "      <td>479.049</td>\n",
              "      <td>137.951</td>\n",
              "    </tr>\n",
              "    <tr>\n",
              "      <th>1</th>\n",
              "      <td>398</td>\n",
              "      <td>557.0</td>\n",
              "      <td>523.970</td>\n",
              "      <td>33.030</td>\n",
              "    </tr>\n",
              "    <tr>\n",
              "      <th>2</th>\n",
              "      <td>6834</td>\n",
              "      <td>193.0</td>\n",
              "      <td>224.690</td>\n",
              "      <td>-31.690</td>\n",
              "    </tr>\n",
              "    <tr>\n",
              "      <th>3</th>\n",
              "      <td>64462</td>\n",
              "      <td>526.0</td>\n",
              "      <td>555.100</td>\n",
              "      <td>-29.100</td>\n",
              "    </tr>\n",
              "    <tr>\n",
              "      <th>4</th>\n",
              "      <td>110064</td>\n",
              "      <td>514.0</td>\n",
              "      <td>515.680</td>\n",
              "      <td>-1.680</td>\n",
              "    </tr>\n",
              "    <tr>\n",
              "      <th>...</th>\n",
              "      <td>...</td>\n",
              "      <td>...</td>\n",
              "      <td>...</td>\n",
              "      <td>...</td>\n",
              "    </tr>\n",
              "    <tr>\n",
              "      <th>23530</th>\n",
              "      <td>90345</td>\n",
              "      <td>527.0</td>\n",
              "      <td>451.060</td>\n",
              "      <td>75.940</td>\n",
              "    </tr>\n",
              "    <tr>\n",
              "      <th>23531</th>\n",
              "      <td>59833</td>\n",
              "      <td>199.0</td>\n",
              "      <td>273.500</td>\n",
              "      <td>-74.500</td>\n",
              "    </tr>\n",
              "    <tr>\n",
              "      <th>23532</th>\n",
              "      <td>104238</td>\n",
              "      <td>270.0</td>\n",
              "      <td>271.740</td>\n",
              "      <td>-1.740</td>\n",
              "    </tr>\n",
              "    <tr>\n",
              "      <th>23533</th>\n",
              "      <td>70735</td>\n",
              "      <td>269.0</td>\n",
              "      <td>276.150</td>\n",
              "      <td>-7.150</td>\n",
              "    </tr>\n",
              "    <tr>\n",
              "      <th>23534</th>\n",
              "      <td>119690</td>\n",
              "      <td>274.0</td>\n",
              "      <td>276.500</td>\n",
              "      <td>-2.500</td>\n",
              "    </tr>\n",
              "  </tbody>\n",
              "</table>\n",
              "<p>23535 rows × 4 columns</p>\n",
              "</div>"
            ],
            "text/plain": [
              "        index  price  price_pred     Diff\n",
              "0       94693  617.0     479.049  137.951\n",
              "1         398  557.0     523.970   33.030\n",
              "2        6834  193.0     224.690  -31.690\n",
              "3       64462  526.0     555.100  -29.100\n",
              "4      110064  514.0     515.680   -1.680\n",
              "...       ...    ...         ...      ...\n",
              "23530   90345  527.0     451.060   75.940\n",
              "23531   59833  199.0     273.500  -74.500\n",
              "23532  104238  270.0     271.740   -1.740\n",
              "23533   70735  269.0     276.150   -7.150\n",
              "23534  119690  274.0     276.500   -2.500\n",
              "\n",
              "[23535 rows x 4 columns]"
            ]
          },
          "execution_count": 333,
          "metadata": {},
          "output_type": "execute_result"
        }
      ],
      "source": [
        "Y_test['Diff'] = Y_test['price'] - Y_test['price_pred']\n",
        "Y_test"
      ]
    },
    {
      "cell_type": "code",
      "execution_count": 334,
      "metadata": {},
      "outputs": [
        {
          "data": {
            "text/html": [
              "<div>\n",
              "<style scoped>\n",
              "    .dataframe tbody tr th:only-of-type {\n",
              "        vertical-align: middle;\n",
              "    }\n",
              "\n",
              "    .dataframe tbody tr th {\n",
              "        vertical-align: top;\n",
              "    }\n",
              "\n",
              "    .dataframe thead th {\n",
              "        text-align: right;\n",
              "    }\n",
              "</style>\n",
              "<table border=\"1\" class=\"dataframe\">\n",
              "  <thead>\n",
              "    <tr style=\"text-align: right;\">\n",
              "      <th></th>\n",
              "      <th>index</th>\n",
              "      <th>price</th>\n",
              "      <th>price_pred</th>\n",
              "      <th>Diff</th>\n",
              "    </tr>\n",
              "  </thead>\n",
              "  <tbody>\n",
              "    <tr>\n",
              "      <th>12757</th>\n",
              "      <td>24446</td>\n",
              "      <td>244.0</td>\n",
              "      <td>243.996667</td>\n",
              "      <td>0.003333</td>\n",
              "    </tr>\n",
              "    <tr>\n",
              "      <th>3576</th>\n",
              "      <td>92377</td>\n",
              "      <td>234.0</td>\n",
              "      <td>233.994167</td>\n",
              "      <td>0.005833</td>\n",
              "    </tr>\n",
              "    <tr>\n",
              "      <th>18075</th>\n",
              "      <td>39363</td>\n",
              "      <td>95.0</td>\n",
              "      <td>94.990000</td>\n",
              "      <td>0.010000</td>\n",
              "    </tr>\n",
              "    <tr>\n",
              "      <th>1369</th>\n",
              "      <td>76497</td>\n",
              "      <td>193.0</td>\n",
              "      <td>192.980000</td>\n",
              "      <td>0.020000</td>\n",
              "    </tr>\n",
              "    <tr>\n",
              "      <th>7477</th>\n",
              "      <td>97055</td>\n",
              "      <td>144.0</td>\n",
              "      <td>143.975000</td>\n",
              "      <td>0.025000</td>\n",
              "    </tr>\n",
              "    <tr>\n",
              "      <th>...</th>\n",
              "      <td>...</td>\n",
              "      <td>...</td>\n",
              "      <td>...</td>\n",
              "      <td>...</td>\n",
              "    </tr>\n",
              "    <tr>\n",
              "      <th>1436</th>\n",
              "      <td>2575</td>\n",
              "      <td>3018.0</td>\n",
              "      <td>1892.190000</td>\n",
              "      <td>1125.810000</td>\n",
              "    </tr>\n",
              "    <tr>\n",
              "      <th>20394</th>\n",
              "      <td>28301</td>\n",
              "      <td>1854.0</td>\n",
              "      <td>704.380000</td>\n",
              "      <td>1149.620000</td>\n",
              "    </tr>\n",
              "    <tr>\n",
              "      <th>15367</th>\n",
              "      <td>90111</td>\n",
              "      <td>2983.0</td>\n",
              "      <td>1803.410000</td>\n",
              "      <td>1179.590000</td>\n",
              "    </tr>\n",
              "    <tr>\n",
              "      <th>18936</th>\n",
              "      <td>42690</td>\n",
              "      <td>2953.0</td>\n",
              "      <td>1719.710000</td>\n",
              "      <td>1233.290000</td>\n",
              "    </tr>\n",
              "    <tr>\n",
              "      <th>11140</th>\n",
              "      <td>90115</td>\n",
              "      <td>3945.0</td>\n",
              "      <td>880.080000</td>\n",
              "      <td>3064.920000</td>\n",
              "    </tr>\n",
              "  </tbody>\n",
              "</table>\n",
              "<p>10429 rows × 4 columns</p>\n",
              "</div>"
            ],
            "text/plain": [
              "       index   price   price_pred         Diff\n",
              "12757  24446   244.0   243.996667     0.003333\n",
              "3576   92377   234.0   233.994167     0.005833\n",
              "18075  39363    95.0    94.990000     0.010000\n",
              "1369   76497   193.0   192.980000     0.020000\n",
              "7477   97055   144.0   143.975000     0.025000\n",
              "...      ...     ...          ...          ...\n",
              "1436    2575  3018.0  1892.190000  1125.810000\n",
              "20394  28301  1854.0   704.380000  1149.620000\n",
              "15367  90111  2983.0  1803.410000  1179.590000\n",
              "18936  42690  2953.0  1719.710000  1233.290000\n",
              "11140  90115  3945.0   880.080000  3064.920000\n",
              "\n",
              "[10429 rows x 4 columns]"
            ]
          },
          "execution_count": 334,
          "metadata": {},
          "output_type": "execute_result"
        }
      ],
      "source": [
        "Y_test[Y_test['Diff'] > 0].sort_values('Diff')"
      ]
    },
    {
      "cell_type": "code",
      "execution_count": 335,
      "metadata": {},
      "outputs": [
        {
          "data": {
            "text/html": [
              "<div>\n",
              "<style scoped>\n",
              "    .dataframe tbody tr th:only-of-type {\n",
              "        vertical-align: middle;\n",
              "    }\n",
              "\n",
              "    .dataframe tbody tr th {\n",
              "        vertical-align: top;\n",
              "    }\n",
              "\n",
              "    .dataframe thead th {\n",
              "        text-align: right;\n",
              "    }\n",
              "</style>\n",
              "<table border=\"1\" class=\"dataframe\">\n",
              "  <thead>\n",
              "    <tr style=\"text-align: right;\">\n",
              "      <th></th>\n",
              "      <th>index</th>\n",
              "      <th>price</th>\n",
              "      <th>price_pred</th>\n",
              "      <th>Diff</th>\n",
              "    </tr>\n",
              "  </thead>\n",
              "  <tbody>\n",
              "    <tr>\n",
              "      <th>12271</th>\n",
              "      <td>32479</td>\n",
              "      <td>888.0</td>\n",
              "      <td>3462.90</td>\n",
              "      <td>-2574.90</td>\n",
              "    </tr>\n",
              "    <tr>\n",
              "      <th>10569</th>\n",
              "      <td>43565</td>\n",
              "      <td>641.0</td>\n",
              "      <td>2401.69</td>\n",
              "      <td>-1760.69</td>\n",
              "    </tr>\n",
              "    <tr>\n",
              "      <th>9268</th>\n",
              "      <td>27248</td>\n",
              "      <td>1053.0</td>\n",
              "      <td>2352.58</td>\n",
              "      <td>-1299.58</td>\n",
              "    </tr>\n",
              "    <tr>\n",
              "      <th>23282</th>\n",
              "      <td>10302</td>\n",
              "      <td>640.0</td>\n",
              "      <td>1849.13</td>\n",
              "      <td>-1209.13</td>\n",
              "    </tr>\n",
              "    <tr>\n",
              "      <th>20922</th>\n",
              "      <td>79856</td>\n",
              "      <td>726.0</td>\n",
              "      <td>1829.14</td>\n",
              "      <td>-1103.14</td>\n",
              "    </tr>\n",
              "    <tr>\n",
              "      <th>...</th>\n",
              "      <td>...</td>\n",
              "      <td>...</td>\n",
              "      <td>...</td>\n",
              "      <td>...</td>\n",
              "    </tr>\n",
              "    <tr>\n",
              "      <th>9999</th>\n",
              "      <td>23400</td>\n",
              "      <td>254.0</td>\n",
              "      <td>254.01</td>\n",
              "      <td>-0.01</td>\n",
              "    </tr>\n",
              "    <tr>\n",
              "      <th>16841</th>\n",
              "      <td>30035</td>\n",
              "      <td>132.0</td>\n",
              "      <td>132.01</td>\n",
              "      <td>-0.01</td>\n",
              "    </tr>\n",
              "    <tr>\n",
              "      <th>15541</th>\n",
              "      <td>63918</td>\n",
              "      <td>537.0</td>\n",
              "      <td>537.01</td>\n",
              "      <td>-0.01</td>\n",
              "    </tr>\n",
              "    <tr>\n",
              "      <th>5857</th>\n",
              "      <td>13812</td>\n",
              "      <td>143.0</td>\n",
              "      <td>143.01</td>\n",
              "      <td>-0.01</td>\n",
              "    </tr>\n",
              "    <tr>\n",
              "      <th>2984</th>\n",
              "      <td>42890</td>\n",
              "      <td>448.0</td>\n",
              "      <td>448.01</td>\n",
              "      <td>-0.01</td>\n",
              "    </tr>\n",
              "  </tbody>\n",
              "</table>\n",
              "<p>13031 rows × 4 columns</p>\n",
              "</div>"
            ],
            "text/plain": [
              "       index   price  price_pred     Diff\n",
              "12271  32479   888.0     3462.90 -2574.90\n",
              "10569  43565   641.0     2401.69 -1760.69\n",
              "9268   27248  1053.0     2352.58 -1299.58\n",
              "23282  10302   640.0     1849.13 -1209.13\n",
              "20922  79856   726.0     1829.14 -1103.14\n",
              "...      ...     ...         ...      ...\n",
              "9999   23400   254.0      254.01    -0.01\n",
              "16841  30035   132.0      132.01    -0.01\n",
              "15541  63918   537.0      537.01    -0.01\n",
              "5857   13812   143.0      143.01    -0.01\n",
              "2984   42890   448.0      448.01    -0.01\n",
              "\n",
              "[13031 rows x 4 columns]"
            ]
          },
          "execution_count": 335,
          "metadata": {},
          "output_type": "execute_result"
        }
      ],
      "source": [
        "Y_test[Y_test['Diff'] < 0].sort_values('Diff')"
      ]
    },
    {
      "cell_type": "code",
      "execution_count": 336,
      "metadata": {},
      "outputs": [
        {
          "data": {
            "text/html": [
              "<div>\n",
              "<style scoped>\n",
              "    .dataframe tbody tr th:only-of-type {\n",
              "        vertical-align: middle;\n",
              "    }\n",
              "\n",
              "    .dataframe tbody tr th {\n",
              "        vertical-align: top;\n",
              "    }\n",
              "\n",
              "    .dataframe thead th {\n",
              "        text-align: right;\n",
              "    }\n",
              "</style>\n",
              "<table border=\"1\" class=\"dataframe\">\n",
              "  <thead>\n",
              "    <tr style=\"text-align: right;\">\n",
              "      <th></th>\n",
              "      <th>index</th>\n",
              "      <th>price</th>\n",
              "      <th>price_pred</th>\n",
              "      <th>Diff</th>\n",
              "    </tr>\n",
              "  </thead>\n",
              "  <tbody>\n",
              "    <tr>\n",
              "      <th>7311</th>\n",
              "      <td>60704</td>\n",
              "      <td>112.0</td>\n",
              "      <td>112.0</td>\n",
              "      <td>0.0</td>\n",
              "    </tr>\n",
              "    <tr>\n",
              "      <th>9363</th>\n",
              "      <td>101854</td>\n",
              "      <td>112.0</td>\n",
              "      <td>112.0</td>\n",
              "      <td>0.0</td>\n",
              "    </tr>\n",
              "    <tr>\n",
              "      <th>18264</th>\n",
              "      <td>60656</td>\n",
              "      <td>112.0</td>\n",
              "      <td>112.0</td>\n",
              "      <td>0.0</td>\n",
              "    </tr>\n",
              "    <tr>\n",
              "      <th>9599</th>\n",
              "      <td>72111</td>\n",
              "      <td>148.0</td>\n",
              "      <td>148.0</td>\n",
              "      <td>0.0</td>\n",
              "    </tr>\n",
              "    <tr>\n",
              "      <th>4463</th>\n",
              "      <td>86526</td>\n",
              "      <td>204.0</td>\n",
              "      <td>204.0</td>\n",
              "      <td>0.0</td>\n",
              "    </tr>\n",
              "    <tr>\n",
              "      <th>...</th>\n",
              "      <td>...</td>\n",
              "      <td>...</td>\n",
              "      <td>...</td>\n",
              "      <td>...</td>\n",
              "    </tr>\n",
              "    <tr>\n",
              "      <th>5022</th>\n",
              "      <td>81358</td>\n",
              "      <td>452.0</td>\n",
              "      <td>452.0</td>\n",
              "      <td>0.0</td>\n",
              "    </tr>\n",
              "    <tr>\n",
              "      <th>15993</th>\n",
              "      <td>81389</td>\n",
              "      <td>452.0</td>\n",
              "      <td>452.0</td>\n",
              "      <td>0.0</td>\n",
              "    </tr>\n",
              "    <tr>\n",
              "      <th>22712</th>\n",
              "      <td>81387</td>\n",
              "      <td>452.0</td>\n",
              "      <td>452.0</td>\n",
              "      <td>0.0</td>\n",
              "    </tr>\n",
              "    <tr>\n",
              "      <th>1454</th>\n",
              "      <td>31528</td>\n",
              "      <td>483.0</td>\n",
              "      <td>483.0</td>\n",
              "      <td>0.0</td>\n",
              "    </tr>\n",
              "    <tr>\n",
              "      <th>2616</th>\n",
              "      <td>57147</td>\n",
              "      <td>546.0</td>\n",
              "      <td>546.0</td>\n",
              "      <td>0.0</td>\n",
              "    </tr>\n",
              "  </tbody>\n",
              "</table>\n",
              "<p>75 rows × 4 columns</p>\n",
              "</div>"
            ],
            "text/plain": [
              "        index  price  price_pred  Diff\n",
              "7311    60704  112.0       112.0   0.0\n",
              "9363   101854  112.0       112.0   0.0\n",
              "18264   60656  112.0       112.0   0.0\n",
              "9599    72111  148.0       148.0   0.0\n",
              "4463    86526  204.0       204.0   0.0\n",
              "...       ...    ...         ...   ...\n",
              "5022    81358  452.0       452.0   0.0\n",
              "15993   81389  452.0       452.0   0.0\n",
              "22712   81387  452.0       452.0   0.0\n",
              "1454    31528  483.0       483.0   0.0\n",
              "2616    57147  546.0       546.0   0.0\n",
              "\n",
              "[75 rows x 4 columns]"
            ]
          },
          "execution_count": 336,
          "metadata": {},
          "output_type": "execute_result"
        }
      ],
      "source": [
        "Y_test[Y_test['Diff'] == 0].sort_values('price')"
      ]
    },
    {
      "cell_type": "code",
      "execution_count": 337,
      "metadata": {
        "colab": {
          "base_uri": "https://localhost:8080/",
          "height": 391
        },
        "id": "fe6Az7ibzSSb",
        "outputId": "4018e0cb-a556-4f03-d394-da3b54e64c51"
      },
      "outputs": [
        {
          "data": {
            "image/png": "[encoded data removed]",
            "text/plain": [
              "<Figure size 800x400 with 1 Axes>"
            ]
          },
          "metadata": {},
          "output_type": "display_data"
        }
      ],
      "source": [
        "# @title Diff\n",
        "\n",
        "from matplotlib import pyplot as plt\n",
        "Y_test['Diff'].plot(kind='line', figsize=(8, 4), title='Diff')\n",
        "plt.gca().spines[['top', 'right']].set_visible(False)"
      ]
    },
    {
      "cell_type": "code",
      "execution_count": 354,
      "metadata": {
        "colab": {
          "base_uri": "https://localhost:8080/",
          "height": 447
        },
        "id": "rb-P0sTHysaD",
        "outputId": "d3ee6bb2-6c51-4869-f79d-80e0b66292d7"
      },
      "outputs": [
        {
          "data": {
            "text/plain": [
              "<Axes: >"
            ]
          },
          "execution_count": 354,
          "metadata": {},
          "output_type": "execute_result"
        },
        {
          "data": {
            "image/png": "[encoded data removed]",
            "text/plain": [
              "<Figure size 640x480 with 1 Axes>"
            ]
          },
          "metadata": {},
          "output_type": "display_data"
        }
      ],
      "source": [
        "Y_test[(Y_test['Diff']>-200) & (Y_test['Diff']<200)]['Diff'].hist(bins=20)"
      ]
    },
    {
      "cell_type": "code",
      "execution_count": 340,
      "metadata": {
        "cellView": "form",
        "colab": {
          "base_uri": "https://localhost:8080/",
          "height": 449
        },
        "id": "MUNMmKOfyDTg",
        "outputId": "379305b2-4b91-45f7-8902-682446644a8a"
      },
      "outputs": [
        {
          "data": {
            "image/png": "[encoded data removed]",
            "text/plain": [
              "<Figure size 640x480 with 1 Axes>"
            ]
          },
          "metadata": {},
          "output_type": "display_data"
        }
      ],
      "source": [
        "# @title price vs price_pred\n",
        "\n",
        "from matplotlib import pyplot as plt\n",
        "Y_test.plot(kind='scatter', x='price', y='price_pred', s=32, alpha=.8)\n",
        "plt.gca().spines[['top', 'right',]].set_visible(False)"
      ]
    },
    {
      "cell_type": "code",
      "execution_count": 341,
      "metadata": {
        "colab": {
          "base_uri": "https://localhost:8080/"
        },
        "id": "j02RhpcN5jwj",
        "outputId": "2ec82161-7ab0-4b7c-d27f-0dccf91282d3"
      },
      "outputs": [
        {
          "data": {
            "text/plain": [
              "Index(['carrier', 'Trip_Type', 'Airport_Route', 'layover_count',\n",
              "       'round_trip_duration', 'Days_to_Fly', 'from_hour',\n",
              "       'flight_duration_value', 'Holiday', 'Fly_WeekDay', 'price'],\n",
              "      dtype='object')"
            ]
          },
          "execution_count": 341,
          "metadata": {},
          "output_type": "execute_result"
        }
      ],
      "source": [
        "df.columns"
      ]
    },
    {
      "cell_type": "code",
      "execution_count": 342,
      "metadata": {},
      "outputs": [],
      "source": [
        "import pickle"
      ]
    },
    {
      "cell_type": "code",
      "execution_count": 343,
      "metadata": {},
      "outputs": [
        {
          "data": {
            "text/html": [
              "<div>\n",
              "<style scoped>\n",
              "    .dataframe tbody tr th:only-of-type {\n",
              "        vertical-align: middle;\n",
              "    }\n",
              "\n",
              "    .dataframe tbody tr th {\n",
              "        vertical-align: top;\n",
              "    }\n",
              "\n",
              "    .dataframe thead th {\n",
              "        text-align: right;\n",
              "    }\n",
              "</style>\n",
              "<table border=\"1\" class=\"dataframe\">\n",
              "  <thead>\n",
              "    <tr style=\"text-align: right;\">\n",
              "      <th></th>\n",
              "      <th>carrier</th>\n",
              "      <th>Trip_Type</th>\n",
              "      <th>Airport_Route</th>\n",
              "      <th>layover_count</th>\n",
              "      <th>round_trip_duration</th>\n",
              "      <th>Days_to_Fly</th>\n",
              "      <th>from_hour</th>\n",
              "      <th>flight_duration_value</th>\n",
              "      <th>Holiday</th>\n",
              "      <th>Fly_WeekDay</th>\n",
              "      <th>price</th>\n",
              "    </tr>\n",
              "  </thead>\n",
              "  <tbody>\n",
              "    <tr>\n",
              "      <th>0</th>\n",
              "      <td>Spirit</td>\n",
              "      <td>Rounds Trip</td>\n",
              "      <td>EWR - LAX</td>\n",
              "      <td>0.0</td>\n",
              "      <td>89</td>\n",
              "      <td>18</td>\n",
              "      <td>6</td>\n",
              "      <td>6.5</td>\n",
              "      <td>Not_Holiday</td>\n",
              "      <td>4</td>\n",
              "      <td>211.0</td>\n",
              "    </tr>\n",
              "    <tr>\n",
              "      <th>1</th>\n",
              "      <td>Alaska</td>\n",
              "      <td>Rounds Trip</td>\n",
              "      <td>EWR - LAX</td>\n",
              "      <td>0.0</td>\n",
              "      <td>89</td>\n",
              "      <td>18</td>\n",
              "      <td>7</td>\n",
              "      <td>6.3</td>\n",
              "      <td>Not_Holiday</td>\n",
              "      <td>4</td>\n",
              "      <td>297.0</td>\n",
              "    </tr>\n",
              "    <tr>\n",
              "      <th>2</th>\n",
              "      <td>JetBlue</td>\n",
              "      <td>Rounds Trip</td>\n",
              "      <td>EWR - LAX</td>\n",
              "      <td>0.0</td>\n",
              "      <td>89</td>\n",
              "      <td>18</td>\n",
              "      <td>5</td>\n",
              "      <td>6.2</td>\n",
              "      <td>Not_Holiday</td>\n",
              "      <td>4</td>\n",
              "      <td>298.0</td>\n",
              "    </tr>\n",
              "    <tr>\n",
              "      <th>3</th>\n",
              "      <td>United</td>\n",
              "      <td>Rounds Trip</td>\n",
              "      <td>EWR - LAX</td>\n",
              "      <td>0.0</td>\n",
              "      <td>89</td>\n",
              "      <td>18</td>\n",
              "      <td>12</td>\n",
              "      <td>6.4</td>\n",
              "      <td>Not_Holiday</td>\n",
              "      <td>4</td>\n",
              "      <td>302.0</td>\n",
              "    </tr>\n",
              "    <tr>\n",
              "      <th>5</th>\n",
              "      <td>Third Party</td>\n",
              "      <td>Rounds Trip</td>\n",
              "      <td>EWR - LAX</td>\n",
              "      <td>1.0</td>\n",
              "      <td>89</td>\n",
              "      <td>18</td>\n",
              "      <td>7</td>\n",
              "      <td>8.1</td>\n",
              "      <td>Not_Holiday</td>\n",
              "      <td>4</td>\n",
              "      <td>270.0</td>\n",
              "    </tr>\n",
              "  </tbody>\n",
              "</table>\n",
              "</div>"
            ],
            "text/plain": [
              "       carrier    Trip_Type Airport_Route  layover_count  round_trip_duration  \\\n",
              "0       Spirit  Rounds Trip     EWR - LAX            0.0                   89   \n",
              "1       Alaska  Rounds Trip     EWR - LAX            0.0                   89   \n",
              "2      JetBlue  Rounds Trip     EWR - LAX            0.0                   89   \n",
              "3       United  Rounds Trip     EWR - LAX            0.0                   89   \n",
              "5  Third Party  Rounds Trip     EWR - LAX            1.0                   89   \n",
              "\n",
              "   Days_to_Fly  from_hour  flight_duration_value      Holiday  Fly_WeekDay  \\\n",
              "0           18          6                    6.5  Not_Holiday            4   \n",
              "1           18          7                    6.3  Not_Holiday            4   \n",
              "2           18          5                    6.2  Not_Holiday            4   \n",
              "3           18         12                    6.4  Not_Holiday            4   \n",
              "5           18          7                    8.1  Not_Holiday            4   \n",
              "\n",
              "   price  \n",
              "0  211.0  \n",
              "1  297.0  \n",
              "2  298.0  \n",
              "3  302.0  \n",
              "5  270.0  "
            ]
          },
          "execution_count": 343,
          "metadata": {},
          "output_type": "execute_result"
        }
      ],
      "source": [
        "df.head()"
      ]
    },
    {
      "cell_type": "code",
      "execution_count": 344,
      "metadata": {},
      "outputs": [
        {
          "data": {
            "text/html": [
              "<div>\n",
              "<style scoped>\n",
              "    .dataframe tbody tr th:only-of-type {\n",
              "        vertical-align: middle;\n",
              "    }\n",
              "\n",
              "    .dataframe tbody tr th {\n",
              "        vertical-align: top;\n",
              "    }\n",
              "\n",
              "    .dataframe thead th {\n",
              "        text-align: right;\n",
              "    }\n",
              "</style>\n",
              "<table border=\"1\" class=\"dataframe\">\n",
              "  <thead>\n",
              "    <tr style=\"text-align: right;\">\n",
              "      <th></th>\n",
              "      <th>carrier</th>\n",
              "      <th>Trip_Type</th>\n",
              "      <th>Airport_Route</th>\n",
              "      <th>layover_count</th>\n",
              "      <th>round_trip_duration</th>\n",
              "      <th>Days_to_Fly</th>\n",
              "      <th>from_hour</th>\n",
              "      <th>flight_duration_value</th>\n",
              "      <th>Holiday</th>\n",
              "      <th>Fly_WeekDay</th>\n",
              "    </tr>\n",
              "  </thead>\n",
              "  <tbody>\n",
              "    <tr>\n",
              "      <th>94693</th>\n",
              "      <td>Delta</td>\n",
              "      <td>Rounds Trip</td>\n",
              "      <td>LAX - JFK</td>\n",
              "      <td>0.0</td>\n",
              "      <td>73</td>\n",
              "      <td>36</td>\n",
              "      <td>21</td>\n",
              "      <td>5.3</td>\n",
              "      <td>Not_Holiday</td>\n",
              "      <td>6</td>\n",
              "    </tr>\n",
              "    <tr>\n",
              "      <th>398</th>\n",
              "      <td>United</td>\n",
              "      <td>Rounds Trip</td>\n",
              "      <td>EWR - LAX</td>\n",
              "      <td>0.0</td>\n",
              "      <td>10</td>\n",
              "      <td>11</td>\n",
              "      <td>19</td>\n",
              "      <td>6.5</td>\n",
              "      <td>Not_Holiday</td>\n",
              "      <td>4</td>\n",
              "    </tr>\n",
              "    <tr>\n",
              "      <th>6834</th>\n",
              "      <td>Spirit</td>\n",
              "      <td>Rounds Trip</td>\n",
              "      <td>LAX - EWR</td>\n",
              "      <td>0.0</td>\n",
              "      <td>83</td>\n",
              "      <td>35</td>\n",
              "      <td>21</td>\n",
              "      <td>5.5</td>\n",
              "      <td>Not_Holiday</td>\n",
              "      <td>1</td>\n",
              "    </tr>\n",
              "  </tbody>\n",
              "</table>\n",
              "</div>"
            ],
            "text/plain": [
              "      carrier    Trip_Type Airport_Route  layover_count  round_trip_duration  \\\n",
              "94693   Delta  Rounds Trip     LAX - JFK            0.0                   73   \n",
              "398    United  Rounds Trip     EWR - LAX            0.0                   10   \n",
              "6834   Spirit  Rounds Trip     LAX - EWR            0.0                   83   \n",
              "\n",
              "       Days_to_Fly  from_hour  flight_duration_value      Holiday  Fly_WeekDay  \n",
              "94693           36         21                    5.3  Not_Holiday            6  \n",
              "398             11         19                    6.5  Not_Holiday            4  \n",
              "6834            35         21                    5.5  Not_Holiday            1  "
            ]
          },
          "execution_count": 344,
          "metadata": {},
          "output_type": "execute_result"
        }
      ],
      "source": [
        "X_test.head(3)"
      ]
    },
    {
      "cell_type": "code",
      "execution_count": 345,
      "metadata": {},
      "outputs": [
        {
          "data": {
            "text/html": [
              "<div>\n",
              "<style scoped>\n",
              "    .dataframe tbody tr th:only-of-type {\n",
              "        vertical-align: middle;\n",
              "    }\n",
              "\n",
              "    .dataframe tbody tr th {\n",
              "        vertical-align: top;\n",
              "    }\n",
              "\n",
              "    .dataframe thead th {\n",
              "        text-align: right;\n",
              "    }\n",
              "</style>\n",
              "<table border=\"1\" class=\"dataframe\">\n",
              "  <thead>\n",
              "    <tr style=\"text-align: right;\">\n",
              "      <th></th>\n",
              "      <th>index</th>\n",
              "      <th>price</th>\n",
              "      <th>price_pred</th>\n",
              "      <th>Diff</th>\n",
              "    </tr>\n",
              "  </thead>\n",
              "  <tbody>\n",
              "    <tr>\n",
              "      <th>0</th>\n",
              "      <td>94693</td>\n",
              "      <td>617.0</td>\n",
              "      <td>479.049</td>\n",
              "      <td>137.951</td>\n",
              "    </tr>\n",
              "    <tr>\n",
              "      <th>1</th>\n",
              "      <td>398</td>\n",
              "      <td>557.0</td>\n",
              "      <td>523.970</td>\n",
              "      <td>33.030</td>\n",
              "    </tr>\n",
              "    <tr>\n",
              "      <th>2</th>\n",
              "      <td>6834</td>\n",
              "      <td>193.0</td>\n",
              "      <td>224.690</td>\n",
              "      <td>-31.690</td>\n",
              "    </tr>\n",
              "  </tbody>\n",
              "</table>\n",
              "</div>"
            ],
            "text/plain": [
              "   index  price  price_pred     Diff\n",
              "0  94693  617.0     479.049  137.951\n",
              "1    398  557.0     523.970   33.030\n",
              "2   6834  193.0     224.690  -31.690"
            ]
          },
          "execution_count": 345,
          "metadata": {},
          "output_type": "execute_result"
        }
      ],
      "source": [
        "Y_test.head(3)"
      ]
    },
    {
      "cell_type": "code",
      "execution_count": 346,
      "metadata": {},
      "outputs": [],
      "source": [
        "with open(r'C:\\Users\\anshu\\Desktop\\Anshul Data Science\\Flight_Data\\df.pkl', 'wb') as f:\n",
        "    # Dump the data into the pickle file\n",
        "    pickle.dump(df, f)"
      ]
    },
    {
      "cell_type": "code",
      "execution_count": 347,
      "metadata": {},
      "outputs": [],
      "source": [
        "with open(r'C:\\Users\\anshu\\Desktop\\Anshul Data Science\\Flight_Data\\pipeline.pkl', 'wb') as f:\n",
        "    # Dump the data into the pickle file\n",
        "    pickle.dump(pipeline, f)"
      ]
    },
    {
      "cell_type": "code",
      "execution_count": null,
      "metadata": {},
      "outputs": [],
      "source": []
    },
    {
      "cell_type": "code",
      "execution_count": null,
      "metadata": {},
      "outputs": [],
      "source": []
    }
  ],
  "metadata": {
    "colab": {
      "authorship_tag": "ABX9TyPJmCzsF0P3LrYPgH4GikC2",
      "provenance": []
    },
    "kernelspec": {
      "display_name": "Python 3",
      "name": "python3"
    },
    "language_info": {
      "codemirror_mode": {
        "name": "ipython",
        "version": 3
      },
      "file_extension": ".py",
      "mimetype": "text/x-python",
      "name": "python",
      "nbconvert_exporter": "python",
      "pygments_lexer": "ipython3",
      "version": "undefined.undefined.undefined"
    }
  },
  "nbformat": 4,
  "nbformat_minor": 0
}
